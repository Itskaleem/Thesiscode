{
 "cells": [
  {
   "cell_type": "code",
   "execution_count": 7,
   "metadata": {},
   "outputs": [],
   "source": [
    "import os \n",
    "import glob\n",
    "import cv2\n",
    "\n",
    "def generate_non_overlapping_crops(image_path, destination_path,count):\n",
    "    image = cv2.imread(image_path)\n",
    "    height, width, _ = image.shape\n",
    "\n",
    "    for y in range(0, height - 224 + 1, 224):\n",
    "        for x in range(0, width - 224 + 1, 224):\n",
    "            crop = image[y:y+224, x:x+224]\n",
    "            cv2.imwrite(f'{destination_path}\\{count}.jpg',crop)\n",
    "            count += 1\n",
    "    \n",
    "    return count\n",
    "\n",
    "if __name__ == \"__main__\":\n",
    "    count = 0\n",
    "    for image_path in glob.glob(r'C:\\Users\\Utente\\Projects\\Thesis\\dataset\\Recaptured\\Recaptured_4k\\FullHDCAM\\*\\*\\*\\*.png'):\n",
    "        count = generate_non_overlapping_crops(image_path, r'C:\\Users\\Utente\\Projects\\Thesis\\dataset\\Recaptured\\crops',count)\n"
   ]
  },
  {
   "cell_type": "code",
   "execution_count": null,
   "metadata": {},
   "outputs": [],
   "source": []
  }
 ],
 "metadata": {
  "kernelspec": {
   "display_name": "ThesisDemo",
   "language": "python",
   "name": "python3"
  },
  "language_info": {
   "codemirror_mode": {
    "name": "ipython",
    "version": 3
   },
   "file_extension": ".py",
   "mimetype": "text/x-python",
   "name": "python",
   "nbconvert_exporter": "python",
   "pygments_lexer": "ipython3",
   "version": "3.11.5"
  }
 },
 "nbformat": 4,
 "nbformat_minor": 2
}
